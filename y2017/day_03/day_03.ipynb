{
 "cells": [
  {
   "cell_type": "code",
   "execution_count": 123,
   "id": "bb536605",
   "metadata": {},
   "outputs": [],
   "source": [
    "import sys\n",
    "import unittest\n",
    "import re\n",
    "import itertools\n",
    "import math\n",
    "from itertools import product, permutations, groupby, combinations, count\n",
    "from more_itertools import set_partitions\n",
    "from pathlib import Path\n",
    "from collections import defaultdict\n",
    "from dataclasses import dataclass\n",
    "from hashlib import md5\n",
    "from typing import *\n",
    "\n",
    "from ivonet.files import *\n",
    "from ivonet.iter import *\n",
    "from ivonet.grid import *\n",
    "from ivonet.alphabet import *\n",
    "from ivonet.files import *\n",
    "from ivonet.str import *\n",
    "from ivonet.search import *\n",
    "from ivonet.calc import *\n",
    "from ivonet.primes import *\n",
    "from ivonet.graph import *\n",
    "from ivonet.cdll import *"
   ]
  },
  {
   "cell_type": "code",
   "execution_count": 182,
   "id": "400e029b",
   "metadata": {},
   "outputs": [],
   "source": [
    "n = 325489"
   ]
  },
  {
   "cell_type": "code",
   "execution_count": 183,
   "id": "2e4546d4",
   "metadata": {},
   "outputs": [
    {
     "data": {
      "text/plain": [
       "285"
      ]
     },
     "execution_count": 183,
     "metadata": {},
     "output_type": "execute_result"
    }
   ],
   "source": [
    "row = int(math.ceil(math.sqrt(n))) // 2\n",
    "row"
   ]
  },
  {
   "cell_type": "code",
   "execution_count": 184,
   "id": "ca1b0267",
   "metadata": {},
   "outputs": [
    {
     "data": {
      "text/plain": [
       "326041"
      ]
     },
     "execution_count": 184,
     "metadata": {},
     "output_type": "execute_result"
    }
   ],
   "source": [
    "corner = (row * 2 + 1)**2\n",
    "corner"
   ]
  },
  {
   "cell_type": "code",
   "execution_count": 185,
   "id": "25423cf4",
   "metadata": {},
   "outputs": [
    {
     "data": {
      "text/plain": [
       "570"
      ]
     },
     "execution_count": 185,
     "metadata": {},
     "output_type": "execute_result"
    }
   ],
   "source": [
    "row_length = row * 2\n",
    "row_length"
   ]
  },
  {
   "cell_type": "code",
   "execution_count": 186,
   "id": "a834542d",
   "metadata": {},
   "outputs": [
    {
     "data": {
      "text/plain": [
       "[325756, 325186, 324616, 324046]"
      ]
     },
     "execution_count": 186,
     "metadata": {},
     "output_type": "execute_result"
    }
   ],
   "source": [
    "centers = list(corner - row_length//2 - row_length * i for i in range(4))\n",
    "centers\n"
   ]
  },
  {
   "cell_type": "code",
   "execution_count": 187,
   "id": "b858833a",
   "metadata": {},
   "outputs": [
    {
     "data": {
      "text/plain": [
       "267"
      ]
     },
     "execution_count": 187,
     "metadata": {},
     "output_type": "execute_result"
    }
   ],
   "source": [
    "dist = min(abs(n - center) for center in centers)\n",
    "dist"
   ]
  },
  {
   "cell_type": "code",
   "execution_count": 188,
   "id": "d1733afa",
   "metadata": {},
   "outputs": [
    {
     "data": {
      "text/plain": [
       "552"
      ]
     },
     "execution_count": 188,
     "metadata": {},
     "output_type": "execute_result"
    }
   ],
   "source": [
    "dist + row"
   ]
  },
  {
   "cell_type": "code",
   "execution_count": 180,
   "id": "b57985de",
   "metadata": {},
   "outputs": [
    {
     "data": {
      "text/plain": [
       "2"
      ]
     },
     "execution_count": 180,
     "metadata": {},
     "output_type": "execute_result"
    }
   ],
   "source": [
    "5//2"
   ]
  }
 ],
 "metadata": {
  "kernelspec": {
   "display_name": "Python 3 (ipykernel)",
   "language": "python",
   "name": "python3"
  },
  "language_info": {
   "codemirror_mode": {
    "name": "ipython",
    "version": 3
   },
   "file_extension": ".py",
   "mimetype": "text/x-python",
   "name": "python",
   "nbconvert_exporter": "python",
   "pygments_lexer": "ipython3",
   "version": "3.9.9"
  }
 },
 "nbformat": 4,
 "nbformat_minor": 5
}
