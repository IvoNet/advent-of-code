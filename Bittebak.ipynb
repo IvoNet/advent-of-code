{
 "cells": [
  {
   "cell_type": "code",
   "execution_count": 314,
   "id": "bb536605",
   "metadata": {},
   "outputs": [],
   "source": [
    "import sys\n",
    "import unittest\n",
    "import re\n",
    "import itertools\n",
    "import math\n",
    "from itertools import product, permutations, groupby, combinations, count, cycle\n",
    "from more_itertools import set_partitions\n",
    "from pathlib import Path\n",
    "from collections import defaultdict\n",
    "from dataclasses import dataclass\n",
    "from hashlib import md5\n",
    "from typing import *\n",
    "\n",
    "from ivonet.files import *\n",
    "from ivonet.iter import *\n",
    "from ivonet.grid import *\n",
    "from ivonet.alphabet import *\n",
    "from ivonet.files import *\n",
    "from ivonet.str import *\n",
    "from ivonet.search import *\n",
    "from ivonet.calc import *\n",
    "from ivonet.primes import *\n",
    "from ivonet.graph import *\n",
    "from ivonet.cdll import *"
   ]
  },
  {
   "cell_type": "code",
   "execution_count": 322,
   "id": "b18444ac",
   "metadata": {},
   "outputs": [],
   "source": [
    "def ranger(depth, times=None):\n",
    "    for idx in count():\n",
    "        for i in range(depth):\n",
    "            yield i\n",
    "        for i in range(depth, 0, -1):\n",
    "            yield i\n",
    "        if idx == times:\n",
    "            break"
   ]
  },
  {
   "cell_type": "code",
   "execution_count": 328,
   "id": "42e2d4df",
   "metadata": {},
   "outputs": [
    {
     "name": "stdout",
     "output_type": "stream",
     "text": [
      "0\n",
      "1\n",
      "2\n",
      "3\n",
      "4\n",
      "3\n",
      "2\n",
      "1\n",
      "0\n",
      "1\n",
      "2\n",
      "3\n",
      "4\n",
      "3\n",
      "2\n",
      "1\n",
      "0\n",
      "1\n",
      "2\n",
      "3\n",
      "4\n",
      "3\n",
      "2\n",
      "1\n",
      "0\n",
      "1\n",
      "2\n",
      "3\n",
      "4\n",
      "3\n",
      "2\n",
      "1\n",
      "0\n",
      "1\n",
      "2\n"
     ]
    }
   ],
   "source": [
    "fw = ranger(4)\n",
    "for i in range(35):\n",
    "    print(next(fw))"
   ]
  }
 ],
 "metadata": {
  "kernelspec": {
   "display_name": "Python 3 (ipykernel)",
   "language": "python",
   "name": "python3"
  },
  "language_info": {
   "codemirror_mode": {
    "name": "ipython",
    "version": 3
   },
   "file_extension": ".py",
   "mimetype": "text/x-python",
   "name": "python",
   "nbconvert_exporter": "python",
   "pygments_lexer": "ipython3",
   "version": "3.9.9"
  }
 },
 "nbformat": 4,
 "nbformat_minor": 5
}
