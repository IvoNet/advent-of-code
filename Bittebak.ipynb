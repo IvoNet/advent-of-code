{
 "cells": [
  {
   "cell_type": "code",
   "execution_count": 8,
   "id": "bb536605",
   "metadata": {},
   "outputs": [],
   "source": [
    "from ivonet.files import *\n",
    "from ivonet.hexa import *\n",
    "from ivonet.iter import *\n",
    "from ivonet.grid import *\n",
    "from ivonet.alphabet import *\n",
    "from ivonet.files import *\n",
    "from ivonet.str import *\n",
    "from ivonet.search import *\n",
    "from ivonet.calc import *\n",
    "from ivonet.primes import *\n",
    "from ivonet.graph import *\n",
    "from ivonet.cdll import *\n",
    "\n",
    "import sys\n",
    "import unittest\n",
    "import re\n",
    "import itertools\n",
    "import math\n",
    "import threading\n",
    "from itertools import product, permutations, groupby, combinations, count, cycle\n",
    "from more_itertools import set_partitions\n",
    "from multiprocessing import Pool\n",
    "from pathlib import Path\n",
    "from collections import defaultdict\n",
    "from dataclasses import dataclass\n",
    "from hashlib import md5\n",
    "from typing import *"
   ]
  },
  {
   "cell_type": "code",
   "execution_count": 24,
   "id": "4b7025a2",
   "metadata": {},
   "outputs": [],
   "source": [
    "Point = complex\n",
    "def rotate(z: complex, degrees: float) -> complex:\n",
    "    return z * 1j**(degrees/90)"
   ]
  },
  {
   "cell_type": "code",
   "execution_count": 48,
   "id": "7b15e808",
   "metadata": {},
   "outputs": [
    {
     "name": "stdout",
     "output_type": "stream",
     "text": [
      "-1j (-1-0j) (-1+0j)\n"
     ]
    }
   ],
   "source": [
    "hu = tl = Point(0, -1)\n",
    "hd = tr = -tl\n",
    "hr = ts = Point(1, 0)\n",
    "hl = tb = -ts\n",
    "\n",
    "hu, hd, hr, hl\n",
    "print(tl, rotate(tl, -90), rotate(tl, 270))\n"
   ]
  },
  {
   "cell_type": "code",
   "execution_count": 61,
   "id": "fc6155b2",
   "metadata": {},
   "outputs": [
    {
     "name": "stdout",
     "output_type": "stream",
     "text": [
      "-1j\n"
     ]
    },
    {
     "data": {
      "text/plain": [
       "1j"
      ]
     },
     "execution_count": 61,
     "metadata": {},
     "output_type": "execute_result"
    }
   ],
   "source": [
    "a = 1\n",
    "a = rotate(a, 270)\n",
    "print(a)\n",
    "a = rotate(a, 180)\n",
    "a\n"
   ]
  }
 ],
 "metadata": {
  "kernelspec": {
   "display_name": "Python 3 (ipykernel)",
   "language": "python",
   "name": "python3"
  },
  "language_info": {
   "codemirror_mode": {
    "name": "ipython",
    "version": 3
   },
   "file_extension": ".py",
   "mimetype": "text/x-python",
   "name": "python",
   "nbconvert_exporter": "python",
   "pygments_lexer": "ipython3",
   "version": "3.9.9"
  }
 },
 "nbformat": 4,
 "nbformat_minor": 5
}
