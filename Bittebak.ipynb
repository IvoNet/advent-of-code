{
 "cells": [
  {
   "cell_type": "code",
   "execution_count": 6,
   "id": "bb536605",
   "metadata": {},
   "outputs": [],
   "source": [
    "import sys\n",
    "import unittest\n",
    "import re\n",
    "import itertools\n",
    "import math\n",
    "import threading\n",
    "from itertools import product, permutations, groupby, combinations, count, cycle\n",
    "from more_itertools import set_partitions\n",
    "from multiprocessing import Pool\n",
    "from pathlib import Path\n",
    "from collections import defaultdict\n",
    "from dataclasses import dataclass\n",
    "from hashlib import md5\n",
    "from typing import *\n",
    "\n",
    "\n",
    "from ivonet.files import *\n",
    "from ivonet.hexa import *\n",
    "#from ivonet.iter import *\n",
    "from ivonet.iter import chunkify\n",
    "from ivonet.grid import *\n",
    "from ivonet.alphabet import *\n",
    "from ivonet.files import *\n",
    "from ivonet.str import *\n",
    "from ivonet.search import *\n",
    "from ivonet.calc import *\n",
    "from ivonet.primes import *\n",
    "from ivonet.graph import *\n",
    "from ivonet.cdll import *"
   ]
  },
  {
   "cell_type": "code",
   "execution_count": 10,
   "id": "c0ea46e9",
   "metadata": {},
   "outputs": [],
   "source": [
    "def rotate_right(data: str, steps: int):\n",
    "    \"\"\"Rotate right X steps means that the whole string should be rotated.\"\"\"\n",
    "    steps = steps % len(data)\n",
    "    return data[-steps:] + data[:-steps]"
   ]
  },
  {
   "cell_type": "code",
   "execution_count": 41,
   "id": "e6bed113",
   "metadata": {},
   "outputs": [],
   "source": [
    "source = read_rows(\"/Users/iwo16283/dev/advent-of-code/2017/day_21/day_21_test.input\")"
   ]
  },
  {
   "cell_type": "code",
   "execution_count": 38,
   "id": "78c2b0bd",
   "metadata": {},
   "outputs": [],
   "source": [
    "def flip(key):\n",
    "    l = list(permutations(key, 2 + len(key) % 2))\n",
    "    return l\n",
    "\n",
    "def rotate(key, steps=1):\n",
    "    ret = \"\".join(key)\n",
    "    ret = rotate_right(ret, steps)\n",
    "    ret = chunkify(ret, 2 + len(ret) % 2)\n",
    "    return tuple(ret)\n",
    "\n",
    "def diagonal(key):\n",
    "  nk = []\n",
    "  for x in range(len(key)):\n",
    "    l = []\n",
    "    for y in range(len(key)):\n",
    "      l.append(key[y][x])\n",
    "    nk.append(\"\".join(l))\n",
    "  return tuple(nk)\n"
   ]
  },
  {
   "cell_type": "code",
   "execution_count": 45,
   "id": "a51f1fa2",
   "metadata": {},
   "outputs": [],
   "source": [
    "def parse(source):\n",
    "    \"\"\"Parse the source and\n",
    "    - add all the flipped and rotated combinations of the same key to the rules\n",
    "      with its value\n",
    "    \"\"\"\n",
    "    rules = {}\n",
    "    for line in source:\n",
    "        key, value = line.split(\" => \")\n",
    "        key = tuple(key.split(\"/\"))\n",
    "        value = value.split(\"/\")\n",
    "        rules[key] = value\n",
    "        for c in flip(key):\n",
    "            rules[c] = value\n",
    "            rules[diagonal(c)] = value\n",
    "            for i in range(len(key)):\n",
    "                k = rotate(c, i)\n",
    "                rules[k] = value\n",
    "                rules[diagonal(k)] = value\n",
    "    return rules\n"
   ]
  },
  {
   "cell_type": "code",
   "execution_count": 48,
   "id": "9a3c6f4f",
   "metadata": {},
   "outputs": [
    {
     "data": {
      "text/plain": [
       "{('..', '.#'): ['##.', '#..', '...'],\n",
       " ('#.', '..'): ['##.', '#..', '...'],\n",
       " ('.#', '..'): ['##.', '#..', '...'],\n",
       " ('..', '#.'): ['##.', '#..', '...'],\n",
       " ('.#.', '..#', '###'): ['#..#', '....', '....', '#..#'],\n",
       " ('..#', '#.#', '.##'): ['#..#', '....', '....', '#..#'],\n",
       " ('#.#', '...', '###'): ['#..#', '....', '....', '#..#'],\n",
       " ('#.#', '..#', '#.#'): ['#..#', '....', '....', '#..#'],\n",
       " ('##.', '#..', '.##'): ['#..#', '....', '....', '#..#'],\n",
       " ('##.', '#.#', '..#'): ['#..#', '....', '....', '#..#'],\n",
       " ('.#.', '###', '..#'): ['#..#', '....', '....', '#..#'],\n",
       " ('.#.', '##.', '.##'): ['#..#', '....', '....', '#..#'],\n",
       " ('#.#', '.##', '#..'): ['#..#', '....', '....', '#..#'],\n",
       " ('#.#', '.#.', '##.'): ['#..#', '....', '....', '#..#'],\n",
       " ('.#.', '#.#', '##.'): ['#..#', '....', '....', '#..#'],\n",
       " ('.##', '#.#', '.#.'): ['#..#', '....', '....', '#..#'],\n",
       " ('..#', '.#.', '###'): ['#..#', '....', '....', '#..#'],\n",
       " ('..#', '.##', '#.#'): ['#..#', '....', '....', '#..#'],\n",
       " ('#..', '#.#', '.##'): ['#..#', '....', '....', '#..#'],\n",
       " ('##.', '..#', '.##'): ['#..#', '....', '....', '#..#'],\n",
       " ('##.', '.#.', '#.#'): ['#..#', '....', '....', '#..#'],\n",
       " ('#.#', '##.', '..#'): ['#..#', '....', '....', '#..#'],\n",
       " ('..#', '###', '.#.'): ['#..#', '....', '....', '#..#'],\n",
       " ('.#.', '.##', '##.'): ['#..#', '....', '....', '#..#'],\n",
       " ('...', '###', '#.#'): ['#..#', '....', '....', '#..#'],\n",
       " ('.##', '.#.', '.##'): ['#..#', '....', '....', '#..#'],\n",
       " ('#..', '.##', '##.'): ['#..#', '....', '....', '#..#'],\n",
       " ('#.#', '.##', '.#.'): ['#..#', '....', '....', '#..#'],\n",
       " ('###', '.#.', '..#'): ['#..#', '....', '....', '#..#'],\n",
       " ('#..', '##.', '#.#'): ['#..#', '....', '....', '#..#'],\n",
       " ('###', '#.#', '...'): ['#..#', '....', '....', '#..#'],\n",
       " ('##.', '#..', '##.'): ['#..#', '....', '....', '#..#'],\n",
       " ('.##', '##.', '#..'): ['#..#', '....', '....', '#..#'],\n",
       " ('###', '..#', '.#.'): ['#..#', '....', '....', '#..#'],\n",
       " ('#..', '#.#', '##.'): ['#..#', '....', '....', '#..#'],\n",
       " ('.##', '#..', '#.#'): ['#..#', '....', '....', '#..#'],\n",
       " ('#.#', '##.', '.#.'): ['#..#', '....', '....', '#..#'],\n",
       " ('##.', '.##', '#..'): ['#..#', '....', '....', '#..#']}"
      ]
     },
     "execution_count": 48,
     "metadata": {},
     "output_type": "execute_result"
    }
   ],
   "source": [
    "r = parse(source)\n",
    "r\n",
    "#r[('##.', '#..', '...')]"
   ]
  }
 ],
 "metadata": {
  "kernelspec": {
   "display_name": "Python 3 (ipykernel)",
   "language": "python",
   "name": "python3"
  },
  "language_info": {
   "codemirror_mode": {
    "name": "ipython",
    "version": 3
   },
   "file_extension": ".py",
   "mimetype": "text/x-python",
   "name": "python",
   "nbconvert_exporter": "python",
   "pygments_lexer": "ipython3",
   "version": "3.9.9"
  }
 },
 "nbformat": 4,
 "nbformat_minor": 5
}
