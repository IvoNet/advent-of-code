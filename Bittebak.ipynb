{
 "cells": [
  {
   "cell_type": "code",
   "execution_count": 347,
   "id": "bb536605",
   "metadata": {},
   "outputs": [],
   "source": [
    "import sys\n",
    "import unittest\n",
    "import re\n",
    "import itertools\n",
    "import math\n",
    "from itertools import product, permutations, groupby, combinations, count, cycle\n",
    "from more_itertools import set_partitions\n",
    "from pathlib import Path\n",
    "from collections import defaultdict\n",
    "from dataclasses import dataclass\n",
    "from hashlib import md5\n",
    "from typing import *\n",
    "\n",
    "from ivonet.files import *\n",
    "from ivonet.hexa import *\n",
    "from ivonet.iter import *\n",
    "from ivonet.grid import *\n",
    "from ivonet.alphabet import *\n",
    "from ivonet.files import *\n",
    "from ivonet.str import *\n",
    "from ivonet.search import *\n",
    "from ivonet.calc import *\n",
    "from ivonet.primes import *\n",
    "from ivonet.graph import *\n",
    "from ivonet.cdll import *"
   ]
  },
  {
   "cell_type": "code",
   "execution_count": 351,
   "id": "163179ec",
   "metadata": {},
   "outputs": [],
   "source": [
    "HEX_BIN = {hex(i)[2:]: bin(i)[2:].zfill(4) for i in range(16)}\n",
    "def hexbin(data: str):\n",
    "    return \"\".join(HEX_BIN[c] for c in data)\n",
    "\n"
   ]
  },
  {
   "cell_type": "code",
   "execution_count": 353,
   "id": "c8e5e055",
   "metadata": {},
   "outputs": [],
   "source": [
    "def generator(start: int, factor: int, devider: int = 2147483647):\n",
    "    seed = start\n",
    "    while True:\n",
    "        seed = (seed * factor) % devider\n",
    "        yield seed\n"
   ]
  },
  {
   "cell_type": "code",
   "execution_count": 367,
   "id": "1071fe0b",
   "metadata": {},
   "outputs": [],
   "source": [
    "a = generator(65, 16807)\n",
    "b = generator(8921, 48271)"
   ]
  },
  {
   "cell_type": "code",
   "execution_count": 368,
   "id": "63a5fecc",
   "metadata": {},
   "outputs": [
    {
     "name": "stdout",
     "output_type": "stream",
     "text": [
      "00000000000100001010101101100111\n",
      "00011001101010101101001100110111\n",
      "\n",
      "01000110011001001111011100111001\n",
      "01001001100010001000010110001000\n",
      "\n",
      "00001110101000101110001101001010\n",
      "01010101010100101110001101001010\n",
      "\n",
      "01100111111110000001011011000111\n",
      "00001000001101111100110000000111\n",
      "\n",
      "01010000100111111001100000100100\n",
      "00010001000000000010100000000100\n",
      "\n"
     ]
    }
   ],
   "source": [
    "for i in range(5):\n",
    "    na = next(a)\n",
    "    nb = next(b)\n",
    "\n",
    "    print(bin(na)[2:].zfill(32))\n",
    "    print(bin(nb)[2:].zfill(32))\n",
    "    print()"
   ]
  }
 ],
 "metadata": {
  "kernelspec": {
   "display_name": "Python 3 (ipykernel)",
   "language": "python",
   "name": "python3"
  },
  "language_info": {
   "codemirror_mode": {
    "name": "ipython",
    "version": 3
   },
   "file_extension": ".py",
   "mimetype": "text/x-python",
   "name": "python",
   "nbconvert_exporter": "python",
   "pygments_lexer": "ipython3",
   "version": "3.9.9"
  }
 },
 "nbformat": 4,
 "nbformat_minor": 5
}
