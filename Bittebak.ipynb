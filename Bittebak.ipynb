{
 "cells": [
  {
   "cell_type": "code",
   "execution_count": 192,
   "id": "bb536605",
   "metadata": {},
   "outputs": [],
   "source": [
    "import sys\n",
    "import unittest\n",
    "import re\n",
    "import itertools\n",
    "import math\n",
    "from itertools import product, permutations, groupby, combinations, count\n",
    "from more_itertools import set_partitions\n",
    "from pathlib import Path\n",
    "from collections import defaultdict\n",
    "from dataclasses import dataclass\n",
    "from hashlib import md5\n",
    "from typing import *\n",
    "\n",
    "from ivonet.files import *\n",
    "from ivonet.iter import *\n",
    "from ivonet.grid import *\n",
    "from ivonet.alphabet import *\n",
    "from ivonet.files import *\n",
    "from ivonet.str import *\n",
    "from ivonet.search import *\n",
    "from ivonet.calc import *\n",
    "from ivonet.primes import *\n",
    "from ivonet.graph import *\n",
    "from ivonet.cdll import *"
   ]
  },
  {
   "cell_type": "code",
   "execution_count": 213,
   "id": "8c4c5ca0",
   "metadata": {},
   "outputs": [],
   "source": [
    "NORTH, S, W, E = (0, -1), (0, 1), (-1, 0), (1, 0)  # directions\n",
    "turn_right = {NORTH: E, E: S, S: W, W: NORTH}  # old -> new direction\n",
    "\n",
    "\n",
    "def spiral(width, height):\n",
    "    if width < 1 or height < 1:\n",
    "        raise ValueError\n",
    "    x, y = width // 2, height // 2  # start near the center\n",
    "    dx, dy = NORTH  # initial direction\n",
    "    matrix = [[None] * width for _ in range(height)]\n",
    "    count = 0\n",
    "    while True:\n",
    "        count += 1\n",
    "        nb = sum(x for x in neighbor_values(matrix, (y,x)) if x is not None)\n",
    "        print(\"!!\",nb)\n",
    "        matrix[y][x] = nb if count > 1 else 1\n",
    "        # try to turn right\n",
    "        new_dx, new_dy = turn_right[dx, dy]\n",
    "        new_x, new_y = x + new_dx, y + new_dy\n",
    "        if (0 <= new_x < width and 0 <= new_y < height and\n",
    "                matrix[new_y][new_x] is None):  # can turn right\n",
    "            x, y = new_x, new_y\n",
    "            dx, dy = new_dx, new_dy\n",
    "        else:  # try to move straight\n",
    "            x, y = x + dx, y + dy\n",
    "            if not (0 <= x < width and 0 <= y < height):\n",
    "                return matrix  # nowhere to go"
   ]
  },
  {
   "cell_type": "code",
   "execution_count": 214,
   "id": "975818a3",
   "metadata": {},
   "outputs": [
    {
     "name": "stdout",
     "output_type": "stream",
     "text": [
      "!! 0\n",
      "!! 1\n",
      "!! 2\n",
      "!! 4\n",
      "!! 5\n",
      "!! 10\n",
      "!! 11\n",
      "!! 23\n",
      "!! 25\n",
      "[11, 23, 25]\n",
      "[10, 1, 1]\n",
      "[5, 4, 2]\n"
     ]
    }
   ],
   "source": [
    "a=spiral(3,3)\n",
    "for r in a:\n",
    "    print(r)"
   ]
  },
  {
   "cell_type": "code",
   "execution_count": 191,
   "id": "5a0c26b6",
   "metadata": {},
   "outputs": [
    {
     "data": {
      "text/plain": [
       "[]"
      ]
     },
     "execution_count": 191,
     "metadata": {},
     "output_type": "execute_result"
    }
   ],
   "source": [
    "neighbors_defined_grid((0,0), (1,1))"
   ]
  }
 ],
 "metadata": {
  "kernelspec": {
   "display_name": "Python 3 (ipykernel)",
   "language": "python",
   "name": "python3"
  },
  "language_info": {
   "codemirror_mode": {
    "name": "ipython",
    "version": 3
   },
   "file_extension": ".py",
   "mimetype": "text/x-python",
   "name": "python",
   "nbconvert_exporter": "python",
   "pygments_lexer": "ipython3",
   "version": "3.9.9"
  }
 },
 "nbformat": 4,
 "nbformat_minor": 5
}
