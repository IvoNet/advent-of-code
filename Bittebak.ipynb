{
 "cells": [
  {
   "cell_type": "code",
   "execution_count": 4,
   "id": "bb536605",
   "metadata": {},
   "outputs": [],
   "source": [
    "import sys\n",
    "import unittest\n",
    "import re\n",
    "from itertools import product, permutations, groupby, combinations, count\n",
    "from more_itertools import set_partitions\n",
    "from pathlib import Path\n",
    "from collections import defaultdict\n",
    "from dataclasses import dataclass\n",
    "from hashlib import md5\n",
    "from typing import *\n",
    "\n",
    "from ivonet.files import *\n",
    "from ivonet.iter import *\n",
    "from ivonet.grid import *\n",
    "from ivonet.alphabet import *\n",
    "from ivonet.files import *\n",
    "from ivonet.str import *\n",
    "from ivonet.search import *\n",
    "from ivonet.calc import *\n",
    "from ivonet.primes import *\n",
    "from ivonet.graph import *"
   ]
  },
  {
   "cell_type": "code",
   "execution_count": 7,
   "id": "f6813e7b",
   "metadata": {},
   "outputs": [
    {
     "name": "stdout",
     "output_type": "stream",
     "text": [
      "defaultdict(<class 'list'>, {'1': ['2', '11'], '2': ['1', '4'], '4': ['2', '11'], '11': ['1', '4']}) 1 None None\n",
      "defaultdict(<class 'list'>, {'1': ['2', '11'], '2': ['1', '4'], '4': ['2', '11'], '11': ['1', '4']}) 2 ['1'] ['1', '2']\n",
      "defaultdict(<class 'list'>, {'1': ['2', '11'], '2': ['1', '4'], '4': ['2', '11'], '11': ['1', '4']}) 4 ['1', '2'] ['1', '2', '4']\n",
      "defaultdict(<class 'list'>, {'1': ['2', '11'], '2': ['1', '4'], '4': ['2', '11'], '11': ['1', '4']}) 11 ['1', '2', '4'] ['1', '2', '4', '11']\n",
      "defaultdict(<class 'list'>, {'1': ['2', '11'], '2': ['1', '4'], '4': ['2', '11'], '11': ['1', '4']}) 11 ['1'] ['1', '11']\n",
      "defaultdict(<class 'list'>, {'1': ['2', '11'], '2': ['1', '4'], '4': ['2', '11'], '11': ['1', '4']}) 4 ['1', '11'] ['1', '11', '4']\n",
      "defaultdict(<class 'list'>, {'1': ['2', '11'], '2': ['1', '4'], '4': ['2', '11'], '11': ['1', '4']}) 2 ['1', '11', '4'] ['1', '11', '4', '2']\n",
      "All Paths:\n",
      "[('1', '2'), ('1', '2', '4'), ('1', '2', '4', '11'), ('1', '11'), ('1', '11', '4'), ('1', '11', '4', '2')]\n",
      "Longest Paths:\n",
      "   ('1', '2', '4', '11')\n",
      "   ('1', '11', '4', '2')\n",
      "Longest Path Length:\n",
      "4\n"
     ]
    }
   ],
   "source": [
    "from collections import defaultdict\n",
    "\n",
    "def DFS(G,v,seen=None,path=None):\n",
    "    print(G, v, seen, path)\n",
    "    if seen is None: seen = []\n",
    "    if path is None: path = [v]\n",
    "\n",
    "    seen.append(v)\n",
    "\n",
    "    paths = []\n",
    "    for t in G[v]:\n",
    "        if t not in seen:\n",
    "            t_path = path + [t]\n",
    "            paths.append(tuple(t_path))\n",
    "            paths.extend(DFS(G, t, seen[:], t_path))\n",
    "    return paths\n",
    "\n",
    "\n",
    "# Define graph by edges\n",
    "edges = [['1', '2'], ['2', '4'], ['1', '11'], ['4', '11']]\n",
    "\n",
    "# Build graph dictionary\n",
    "G = defaultdict(list)\n",
    "for (s,t) in edges:\n",
    "    G[s].append(t)\n",
    "    G[t].append(s)\n",
    "\n",
    "# Run DFS, compute metrics\n",
    "all_paths = DFS(G, '1')\n",
    "max_len   = max(len(p) for p in all_paths)\n",
    "max_paths = [p for p in all_paths if len(p) == max_len]\n",
    "\n",
    "# Output\n",
    "print(\"All Paths:\")\n",
    "print(all_paths)\n",
    "print(\"Longest Paths:\")\n",
    "for p in max_paths: print(\"  \", p)\n",
    "print(\"Longest Path Length:\")\n",
    "print(max_len)"
   ]
  }
 ],
 "metadata": {
  "kernelspec": {
   "display_name": "Python 3 (ipykernel)",
   "language": "python",
   "name": "python3"
  },
  "language_info": {
   "codemirror_mode": {
    "name": "ipython",
    "version": 3
   },
   "file_extension": ".py",
   "mimetype": "text/x-python",
   "name": "python",
   "nbconvert_exporter": "python",
   "pygments_lexer": "ipython3",
   "version": "3.9.9"
  }
 },
 "nbformat": 4,
 "nbformat_minor": 5
}
