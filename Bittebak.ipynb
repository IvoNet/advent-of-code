{
 "cells": [
  {
   "cell_type": "code",
   "execution_count": 2,
   "id": "bb536605",
   "metadata": {},
   "outputs": [],
   "source": [
    "from __future__ import annotations\n",
    "\n",
    "from ivonet.files import *\n",
    "from ivonet.hexa import *\n",
    "from ivonet.iter import *\n",
    "from ivonet.grid import *\n",
    "from ivonet.alphabet import *\n",
    "from ivonet.files import *\n",
    "from ivonet.str import *\n",
    "from ivonet.search import *\n",
    "from ivonet.calc import *\n",
    "from ivonet.primes import *\n",
    "from ivonet.graph import *\n",
    "from ivonet.cdll import *\n",
    "\n",
    "import sys\n",
    "import unittest\n",
    "import re\n",
    "import itertools\n",
    "import math\n",
    "import threading\n",
    "from itertools import product, permutations, groupby, combinations, count, cycle\n",
    "from more_itertools import set_partitions\n",
    "from multiprocessing import Pool\n",
    "from pathlib import Path\n",
    "from collections import defaultdict\n",
    "from dataclasses import dataclass\n",
    "from hashlib import md5\n",
    "from typing import *\n",
    "from enum import Enum\n"
   ]
  },
  {
   "cell_type": "code",
   "execution_count": 39,
   "id": "2f17faa6",
   "metadata": {},
   "outputs": [],
   "source": [
    "Point = complex\n",
    "def rotate(z: complex, degrees: float) -> complex:\n",
    "    return z * 1j**(degrees/90)\n",
    "\n",
    "class Location(NamedTuple):\n",
    "    row: int\n",
    "    col: int\n",
    "\n",
    "class Cell(str, Enum):\n",
    "    EMPTY = \" \"\n",
    "    BLOCKED = \"#\"\n",
    "    ELF = \"E\"\n",
    "    GOBLIN = \"G\"\n",
    "    PATH = \"*\"\n",
    "\n",
    "    def __repr__(self) -> str:\n",
    "        return self.value\n"
   ]
  },
  {
   "cell_type": "code",
   "execution_count": 47,
   "id": "c5f2833f-2f72-4690-81a2-b243b09e97f8",
   "metadata": {},
   "outputs": [
    {
     "data": {
      "text/plain": [
       "[1, 3, 3517139, 10551417]"
      ]
     },
     "execution_count": 47,
     "metadata": {},
     "output_type": "execute_result"
    }
   ],
   "source": [
    "r = 10551417\n",
    "a = [i for i in range(1, r + 1) if r % i == 0]\n",
    "a\n"
   ]
  },
  {
   "cell_type": "code",
   "execution_count": null,
   "id": "cd95ae0a-7f17-4cf5-b7fd-99bfb56ed409",
   "metadata": {},
   "outputs": [],
   "source": []
  }
 ],
 "metadata": {
  "kernelspec": {
   "display_name": "Python 3 (ipykernel)",
   "language": "python",
   "name": "python3"
  },
  "language_info": {
   "codemirror_mode": {
    "name": "ipython",
    "version": 3
   },
   "file_extension": ".py",
   "mimetype": "text/x-python",
   "name": "python",
   "nbconvert_exporter": "python",
   "pygments_lexer": "ipython3",
   "version": "3.9.9"
  }
 },
 "nbformat": 4,
 "nbformat_minor": 5
}
