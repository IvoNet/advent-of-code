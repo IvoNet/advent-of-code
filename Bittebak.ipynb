{
 "cells": [
  {
   "cell_type": "code",
   "execution_count": 1,
   "id": "bb536605",
   "metadata": {},
   "outputs": [],
   "source": [
    "import sys\n",
    "import unittest\n",
    "from itertools import product, permutations, groupby\n",
    "from pathlib import Path\n",
    "from collections import defaultdict\n",
    "from typing import *\n",
    "\n",
    "\n",
    "from ivonet.files import *\n",
    "from ivonet.iter import *\n",
    "from ivonet.grid import *\n",
    "from ivonet.alphabet import *\n",
    "from ivonet.files import *\n",
    "from ivonet.str import *\n",
    "from ivonet.search import *\n",
    "from ivonet.calc import *\n",
    "from ivonet.primes import *\n",
    "from ivonet.graph import *"
   ]
  },
  {
   "cell_type": "code",
   "execution_count": 5,
   "id": "2d15ebc0",
   "metadata": {},
   "outputs": [
    {
     "data": {
      "text/plain": [
       "546"
      ]
     },
     "execution_count": 5,
     "metadata": {},
     "output_type": "execute_result"
    }
   ],
   "source": [
    "i = read_ints(\"\"\"33\n",
    "14\n",
    "18\n",
    "20\n",
    "45\n",
    "35\n",
    "16\n",
    "35\n",
    "1\n",
    "13\n",
    "18\n",
    "13\n",
    "50\n",
    "44\n",
    "48\n",
    "6\n",
    "24\n",
    "41\n",
    "30\n",
    "42\"\"\", delimiter=\"\\n\")\n",
    "sum(i)"
   ]
  }
 ],
 "metadata": {
  "kernelspec": {
   "display_name": "Python 3 (ipykernel)",
   "language": "python",
   "name": "python3"
  },
  "language_info": {
   "codemirror_mode": {
    "name": "ipython",
    "version": 3
   },
   "file_extension": ".py",
   "mimetype": "text/x-python",
   "name": "python",
   "nbconvert_exporter": "python",
   "pygments_lexer": "ipython3",
   "version": "3.9.9"
  }
 },
 "nbformat": 4,
 "nbformat_minor": 5
}
