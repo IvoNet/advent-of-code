{
 "cells": [
  {
   "cell_type": "code",
   "execution_count": 74,
   "id": "bb536605",
   "metadata": {},
   "outputs": [],
   "source": [
    "import sys\n",
    "import unittest\n",
    "from itertools import product, permutations, groupby, combinations, count\n",
    "from more_itertools import set_partitions\n",
    "from pathlib import Path\n",
    "from collections import defaultdict\n",
    "from dataclasses import dataclass\n",
    "from hashlib import md5\n",
    "from typing import *\n",
    "\n",
    "from ivonet.files import *\n",
    "from ivonet.iter import *\n",
    "from ivonet.grid import *\n",
    "from ivonet.alphabet import *\n",
    "from ivonet.files import *\n",
    "from ivonet.str import *\n",
    "from ivonet.search import *\n",
    "from ivonet.calc import *\n",
    "from ivonet.primes import *\n",
    "from ivonet.graph import *"
   ]
  },
  {
   "cell_type": "code",
   "execution_count": 75,
   "id": "1cede653",
   "metadata": {},
   "outputs": [],
   "source": [
    "a = [('e', 'd', 'e', 'r', 'a', 't', 's', 'r', 'n', 'n', 's', 't', 'v', 'v', 'd', 'e'), ('e', 'r', 'a', 'a', 't', 's', 'd', 'a', 's', 't', 'v', 'e', 'n', 'r', 'v', 'n'), ('d', 'v', 'n', 'a', 'e', 'r', 't', 's', 's', 'n', 'e', 's', 't', 'd', 'r', 'a'), ('a', 't', 'd', 'v', 'v', 'n', 't', 'r', 'd', 'a', 't', 'n', 's', 'e', 's', 'r'), ('d', 'e', 's', 'r', 'r', 'e', 's', 't', 't', 'd', 'v', 'v', 'n', 'a', 'e', 'a'), ('n', 'e', 'r', 'd', 's', 'v', 'a', 'v', 's', 'a', 'e', 't', 'd', 'r', 'n', 'r')]\n"
   ]
  },
  {
   "cell_type": "code",
   "execution_count": 81,
   "id": "a1ce02af",
   "metadata": {},
   "outputs": [
    {
     "data": {
      "text/plain": [
       "('a', 1)"
      ]
     },
     "execution_count": 81,
     "metadata": {},
     "output_type": "execute_result"
    }
   ],
   "source": [
    "b = Counter(a[0])\n",
    "b.most_common()[-1]"
   ]
  }
 ],
 "metadata": {
  "kernelspec": {
   "display_name": "Python 3 (ipykernel)",
   "language": "python",
   "name": "python3"
  },
  "language_info": {
   "codemirror_mode": {
    "name": "ipython",
    "version": 3
   },
   "file_extension": ".py",
   "mimetype": "text/x-python",
   "name": "python",
   "nbconvert_exporter": "python",
   "pygments_lexer": "ipython3",
   "version": "3.9.9"
  }
 },
 "nbformat": 4,
 "nbformat_minor": 5
}
