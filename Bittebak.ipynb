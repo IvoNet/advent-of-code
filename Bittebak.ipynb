{
 "cells": [
  {
   "cell_type": "code",
   "execution_count": 16,
   "id": "bb536605",
   "metadata": {},
   "outputs": [],
   "source": [
    "import sys\n",
    "import unittest\n",
    "import re\n",
    "import itertools\n",
    "import math\n",
    "import threading\n",
    "from itertools import product, permutations, groupby, combinations, count, cycle\n",
    "from more_itertools import set_partitions\n",
    "from multiprocessing import Pool\n",
    "from pathlib import Path\n",
    "from collections import defaultdict\n",
    "from dataclasses import dataclass\n",
    "from hashlib import md5\n",
    "from typing import *\n",
    "\n",
    "from ivonet.files import *\n",
    "from ivonet.hexa import *\n",
    "from ivonet.iter import *\n",
    "from ivonet.grid import *\n",
    "from ivonet.alphabet import *\n",
    "from ivonet.files import *\n",
    "from ivonet.str import *\n",
    "from ivonet.search import *\n",
    "from ivonet.calc import *\n",
    "from ivonet.primes import *\n",
    "from ivonet.graph import *\n",
    "from ivonet.cdll import *"
   ]
  },
  {
   "cell_type": "code",
   "execution_count": 2,
   "id": "b5c01f74",
   "metadata": {},
   "outputs": [
    {
     "data": {
      "text/plain": [
       "'\\n.#.   .#.   #..   ###\\n..#   #..   #.#   ..#\\n###   ###   ##.   .#.\\n'"
      ]
     },
     "execution_count": 2,
     "metadata": {},
     "output_type": "execute_result"
    }
   ],
   "source": [
    "\"\"\"\n",
    ".#.   .#.   #..   ###\n",
    "..#   #..   #.#   ..#\n",
    "###   ###   ##.   .#.\n",
    "\"\"\""
   ]
  },
  {
   "cell_type": "code",
   "execution_count": 10,
   "id": "3bd721ec",
   "metadata": {},
   "outputs": [],
   "source": [
    "def rotate_right(data: str, steps: int):\n",
    "    \"\"\"Rotate right X steps means that the whole string should be rotated.\"\"\"\n",
    "    steps = steps % len(data)\n",
    "    return data[-steps:] + data[:-steps]\n",
    "\n",
    "\n"
   ]
  },
  {
   "cell_type": "code",
   "execution_count": 12,
   "id": "d49e1664",
   "metadata": {},
   "outputs": [],
   "source": [
    "o = \".#./..#/###\"\n",
    "a = o[:3] \n",
    "b = o[3:6]\n",
    "c = o[6:]"
   ]
  },
  {
   "cell_type": "code",
   "execution_count": 13,
   "id": "04c54944",
   "metadata": {},
   "outputs": [],
   "source": [
    "def chunk(line):\n",
    "    return line.split(\"/\")\n"
   ]
  },
  {
   "cell_type": "code",
   "execution_count": 20,
   "id": "0d3e06ca",
   "metadata": {},
   "outputs": [
    {
     "name": "stdout",
     "output_type": "stream",
     "text": [
      ".#./..#/###\n",
      "----------\n",
      ".#./###/..#\n",
      "----------\n",
      "..#/.#./###\n",
      "----------\n",
      "..#/###/.#.\n",
      "----------\n",
      "###/.#./..#\n",
      "----------\n",
      "###/..#/.#.\n",
      "----------\n"
     ]
    }
   ],
   "source": [
    "for c in combinations(chunk(o), 3):\n",
    "    print(\"/\".join(c))\n",
    "    print(\"-\"*10)\n",
    "    "
   ]
  },
  {
   "cell_type": "code",
   "execution_count": 8,
   "id": "20379cc2",
   "metadata": {},
   "outputs": [
    {
     "name": "stdout",
     "output_type": "stream",
     "text": [
      "#.#...###\n",
      "----------\n",
      "#.#\n",
      "...\n",
      "###\n",
      "----------\n",
      "##.#...##\n",
      "----------\n",
      "##.\n",
      "#..\n",
      ".##\n",
      "----------\n",
      "###.#...#\n",
      "----------\n",
      "###\n",
      ".#.\n",
      "..#\n",
      "----------\n",
      "####.#...\n",
      "----------\n",
      "###\n",
      "#.#\n",
      "...\n",
      "----------\n",
      ".####.#..\n",
      "----------\n",
      ".##\n",
      "##.\n",
      "#..\n",
      "----------\n",
      "..####.#.\n",
      "----------\n",
      "..#\n",
      "###\n",
      ".#.\n",
      "----------\n",
      "...####.#\n",
      "----------\n",
      "...\n",
      "###\n",
      "#.#\n",
      "----------\n",
      "#...####.\n",
      "----------\n",
      "#..\n",
      ".##\n",
      "##.\n",
      "----------\n",
      ".#...####\n",
      "----------\n",
      ".#.\n",
      "..#\n",
      "###\n",
      "----------\n",
      "#.#...###\n",
      "----------\n",
      "#.#\n",
      "...\n",
      "###\n",
      "----------\n",
      "##.#...##\n",
      "----------\n",
      "##.\n",
      "#..\n",
      ".##\n",
      "----------\n",
      "###.#...#\n",
      "----------\n",
      "###\n",
      ".#.\n",
      "..#\n",
      "----------\n",
      "####.#...\n",
      "----------\n",
      "###\n",
      "#.#\n",
      "...\n",
      "----------\n",
      ".####.#..\n",
      "----------\n",
      ".##\n",
      "##.\n",
      "#..\n",
      "----------\n",
      "..####.#.\n",
      "----------\n",
      "..#\n",
      "###\n",
      ".#.\n",
      "----------\n",
      "...####.#\n",
      "----------\n",
      "...\n",
      "###\n",
      "#.#\n",
      "----------\n",
      "#...####.\n",
      "----------\n",
      "#..\n",
      ".##\n",
      "##.\n",
      "----------\n",
      ".#...####\n",
      "----------\n",
      ".#.\n",
      "..#\n",
      "###\n",
      "----------\n"
     ]
    }
   ],
   "source": [
    "\n",
    "for i in range(18):\n",
    "    a = rotate_right(a, 1)\n",
    "    print(a)\n",
    "    print(\"-\"*10)\n",
    "    print(a[:3])\n",
    "    print(a[3:6])\n",
    "    print(a[6:])\n",
    "    print(\"-\"*10)"
   ]
  }
 ],
 "metadata": {
  "kernelspec": {
   "display_name": "Python 3 (ipykernel)",
   "language": "python",
   "name": "python3"
  },
  "language_info": {
   "codemirror_mode": {
    "name": "ipython",
    "version": 3
   },
   "file_extension": ".py",
   "mimetype": "text/x-python",
   "name": "python",
   "nbconvert_exporter": "python",
   "pygments_lexer": "ipython3",
   "version": "3.9.9"
  }
 },
 "nbformat": 4,
 "nbformat_minor": 5
}
