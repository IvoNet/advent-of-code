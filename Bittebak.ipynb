{
 "cells": [
  {
   "cell_type": "code",
   "execution_count": 43,
   "id": "bb536605",
   "metadata": {},
   "outputs": [],
   "source": [
    "import sys\n",
    "import unittest\n",
    "from itertools import product, permutations, groupby, combinations\n",
    "from more_itertools import set_partitions\n",
    "from pathlib import Path\n",
    "from collections import defaultdict\n",
    "from typing import *\n",
    "\n",
    "\n",
    "from ivonet.files import *\n",
    "from ivonet.iter import *\n",
    "from ivonet.grid import *\n",
    "from ivonet.alphabet import *\n",
    "from ivonet.files import *\n",
    "from ivonet.str import *\n",
    "from ivonet.search import *\n",
    "from ivonet.calc import *\n",
    "from ivonet.primes import *\n",
    "from ivonet.graph import *"
   ]
  },
  {
   "cell_type": "code",
   "execution_count": 46,
   "id": "e309735a",
   "metadata": {},
   "outputs": [],
   "source": [
    "def process(source) -> int:\n",
    "    cache = {}\n",
    "    quantum_entanglement = float(\"inf\")\n",
    "    for a, b, c in set_partitions(source, 3):\n",
    "        if sum(a) == sum(b) == sum(c):\n",
    "            qe = prod(a)\n",
    "            print(\"QE=\", qe, \"[\", a, b, c, \"]\")\n",
    "            cache[qe] = (a, b, c)\n",
    "            if qe < quantum_entanglement:\n",
    "                quantum_entanglement = qe\n",
    "    return int(quantum_entanglement)"
   ]
  },
  {
   "cell_type": "code",
   "execution_count": null,
   "id": "c68bf17e",
   "metadata": {},
   "outputs": [],
   "source": [
    "a = [1, 3, 5, 11, 13, 17, 19, 23, 29, 31, 37, 41, 43, 47, 53, 59, 67, 71, 73, 79, 83, 89, 97, 101, 103, 107, 109, 113]\n",
    "process(a)"
   ]
  }
 ],
 "metadata": {
  "kernelspec": {
   "display_name": "Python 3 (ipykernel)",
   "language": "python",
   "name": "python3"
  },
  "language_info": {
   "codemirror_mode": {
    "name": "ipython",
    "version": 3
   },
   "file_extension": ".py",
   "mimetype": "text/x-python",
   "name": "python",
   "nbconvert_exporter": "python",
   "pygments_lexer": "ipython3",
   "version": "3.9.9"
  }
 },
 "nbformat": 4,
 "nbformat_minor": 5
}
