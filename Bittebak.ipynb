{
 "cells": [
  {
   "cell_type": "code",
   "execution_count": 1,
   "id": "bb536605",
   "metadata": {},
   "outputs": [],
   "source": [
    "import sys\n",
    "import unittest\n",
    "import re\n",
    "from itertools import product, permutations, groupby, combinations, count\n",
    "from more_itertools import set_partitions\n",
    "from pathlib import Path\n",
    "from collections import defaultdict\n",
    "from dataclasses import dataclass\n",
    "from hashlib import md5\n",
    "from typing import *\n",
    "\n",
    "from ivonet.files import *\n",
    "from ivonet.iter import *\n",
    "from ivonet.grid import *\n",
    "from ivonet.alphabet import *\n",
    "from ivonet.files import *\n",
    "from ivonet.str import *\n",
    "from ivonet.search import *\n",
    "from ivonet.calc import *\n",
    "from ivonet.primes import *\n",
    "from ivonet.graph import *\n",
    "from ivonet.cdll import *"
   ]
  },
  {
   "cell_type": "code",
   "execution_count": 6,
   "id": "2bf05384",
   "metadata": {},
   "outputs": [
    {
     "name": "stdout",
     "output_type": "stream",
     "text": [
      "Node<data=0 prev=1 next=1>\n",
      "Node<data=1 prev=0 next=2>\n",
      "Node<data=2 prev=1 next=3>\n",
      "Node<data=3 prev=2 next=4>\n",
      "Node<data=4 prev=3 next=5>\n",
      "Node<data=5 prev=4 next=6>\n",
      "Node<data=6 prev=5 next=7>\n",
      "Node<data=7 prev=6 next=8>\n",
      "Node<data=8 prev=7 next=9>\n",
      "Node<data=9 prev=8 next=10>\n",
      "Node<data=10 prev=9 next=11>\n",
      "Node<data=11 prev=10 next=12>\n",
      "Node<data=12 prev=11 next=13>\n",
      "Node<data=13 prev=12 next=14>\n",
      "Node<data=14 prev=13 next=15>\n",
      "Node<data=15 prev=14 next=16>\n",
      "Node<data=16 prev=15 next=17>\n",
      "Node<data=17 prev=16 next=18>\n",
      "Node<data=18 prev=17 next=19>\n",
      "Node<data=19 prev=18 next=20>\n",
      "Node<data=20 prev=19 next=21>\n",
      "Node<data=21 prev=20 next=22>\n",
      "Node<data=22 prev=21 next=23>\n",
      "Node<data=23 prev=22 next=24>\n",
      "Node<data=24 prev=23 next=25>\n",
      "Node<data=25 prev=24 next=26>\n",
      "Node<data=26 prev=25 next=27>\n",
      "Node<data=27 prev=26 next=28>\n",
      "Node<data=28 prev=27 next=29>\n",
      "Node<data=29 prev=28 next=30>\n",
      "Node<data=30 prev=29 next=31>\n",
      "Node<data=31 prev=30 next=32>\n",
      "Node<data=32 prev=31 next=33>\n",
      "Node<data=33 prev=32 next=34>\n",
      "Node<data=34 prev=33 next=35>\n",
      "Node<data=35 prev=34 next=36>\n",
      "Node<data=36 prev=35 next=37>\n",
      "Node<data=37 prev=36 next=38>\n",
      "Node<data=38 prev=37 next=39>\n",
      "Node<data=39 prev=38 next=40>\n",
      "Node<data=40 prev=39 next=41>\n",
      "Node<data=41 prev=40 next=42>\n",
      "Node<data=42 prev=41 next=43>\n",
      "Node<data=43 prev=42 next=44>\n",
      "Node<data=44 prev=43 next=45>\n",
      "Node<data=45 prev=44 next=46>\n",
      "Node<data=46 prev=45 next=47>\n",
      "Node<data=47 prev=46 next=48>\n",
      "Node<data=48 prev=47 next=49>\n",
      "Node<data=49 prev=48 next=50>\n",
      "49\n"
     ]
    }
   ],
   "source": [
    "ll = CircularDoublyLinkedList()\n",
    "ll.append(1)\n",
    "ll.extend(range(100))\n",
    "idx = 1\n",
    "while a:=ll.next():\n",
    "    print(a)\n",
    "    idx += 1\n",
    "    if idx > 50: break\n",
    "print(ll.get())"
   ]
  },
  {
   "cell_type": "code",
   "execution_count": null,
   "id": "419bb421",
   "metadata": {},
   "outputs": [],
   "source": []
  }
 ],
 "metadata": {
  "kernelspec": {
   "display_name": "Python 3 (ipykernel)",
   "language": "python",
   "name": "python3"
  },
  "language_info": {
   "codemirror_mode": {
    "name": "ipython",
    "version": 3
   },
   "file_extension": ".py",
   "mimetype": "text/x-python",
   "name": "python",
   "nbconvert_exporter": "python",
   "pygments_lexer": "ipython3",
   "version": "3.9.9"
  }
 },
 "nbformat": 4,
 "nbformat_minor": 5
}
