{
 "cells": [
  {
   "cell_type": "code",
   "execution_count": 1,
   "id": "053093c6",
   "metadata": {},
   "outputs": [],
   "source": [
    "import sys\n",
    "import unittest\n",
    "from itertools import product, permutation, groupby\n",
    "from pathlib import Path\n",
    "from collections import defaultdict\n",
    "from typing import *\n",
    "\n",
    "\n",
    "from ivonet.files import *\n",
    "from ivonet.iter import *\n",
    "from ivonet.grid import *\n",
    "from ivonet.alphabet import *\n",
    "from ivonet.files import *\n",
    "from ivonet.str import *\n",
    "from ivonet.search import *\n",
    "from ivonet.calc import *\n",
    "from ivonet.primes import *\n",
    "from ivonet.graph import *"
   ]
  },
  {
   "cell_type": "code",
   "execution_count": 3,
   "id": "cf3e8d3f",
   "metadata": {},
   "outputs": [],
   "source": [
    "def count_ways(n):\n",
    "    counter = 0 # Initialize result\n",
    "    # Generate all possible quadruplet\n",
    "    # and increment counter when sum of\n",
    "    # a quadruplet is equal to n\n",
    "    for i in range(1, n):\n",
    "        for j in range(i, n):\n",
    "            for k in range(j, n):\n",
    "                for l in range(k, n):\n",
    "                    if (i + j + k + l == n):\n",
    "                        counter += 1\n",
    "    return counter"
   ]
  },
  {
   "cell_type": "code",
   "execution_count": 5,
   "id": "8a10e7fc",
   "metadata": {},
   "outputs": [
    {
     "data": {
      "text/plain": [
       "7153"
      ]
     },
     "execution_count": 5,
     "metadata": {},
     "output_type": "execute_result"
    }
   ],
   "source": [
    "count_ways(100)"
   ]
  },
  {
   "cell_type": "code",
   "execution_count": 14,
   "id": "14d94ebd",
   "metadata": {},
   "outputs": [],
   "source": [
    "def four_way_split(n):\n",
    "    for i in range(1, n):\n",
    "        for j in range(i, n):\n",
    "            for k in range(j, n):\n",
    "                for l in range(k, n):\n",
    "                    if (i + j + k + l == n):\n",
    "                        yield i,j,k,l\n"
   ]
  },
  {
   "cell_type": "code",
   "execution_count": 16,
   "id": "17a1a5ee",
   "metadata": {},
   "outputs": [
    {
     "data": {
      "text/plain": [
       "['Sue', '1', 'cars', '9', 'akitas', '3', 'goldfish', '0']"
      ]
     },
     "execution_count": 16,
     "metadata": {},
     "output_type": "execute_result"
    }
   ],
   "source": [
    "s = \"Sue 1: cars: 9, akitas: 3, goldfish: 0\"\n",
    "s = s.replace(\":\", \"\").replace(\",\", \"\")\n",
    "s.split()"
   ]
  }
 ],
 "metadata": {
  "kernelspec": {
   "display_name": "Python 3 (ipykernel)",
   "language": "python",
   "name": "python3"
  },
  "language_info": {
   "codemirror_mode": {
    "name": "ipython",
    "version": 3
   },
   "file_extension": ".py",
   "mimetype": "text/x-python",
   "name": "python",
   "nbconvert_exporter": "python",
   "pygments_lexer": "ipython3",
   "version": "3.9.9"
  }
 },
 "nbformat": 4,
 "nbformat_minor": 5
}
