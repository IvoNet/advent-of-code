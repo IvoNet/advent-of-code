{
 "cells": [
  {
   "cell_type": "code",
   "execution_count": 14,
   "id": "bb536605",
   "metadata": {},
   "outputs": [],
   "source": [
    "import sys\n",
    "import unittest\n",
    "from itertools import product, permutations, groupby, combinations\n",
    "from pathlib import Path\n",
    "from collections import defaultdict\n",
    "from typing import *\n",
    "\n",
    "\n",
    "from ivonet.files import *\n",
    "from ivonet.iter import *\n",
    "from ivonet.grid import *\n",
    "from ivonet.alphabet import *\n",
    "from ivonet.files import *\n",
    "from ivonet.str import *\n",
    "from ivonet.search import *\n",
    "from ivonet.calc import *\n",
    "from ivonet.primes import *\n",
    "from ivonet.graph import *"
   ]
  },
  {
   "cell_type": "code",
   "execution_count": 16,
   "id": "6501c706",
   "metadata": {},
   "outputs": [
    {
     "data": {
      "text/plain": [
       "[2, 2, 2, 2, 2, 5, 5, 5, 5, 5, 331]"
      ]
     },
     "execution_count": 16,
     "metadata": {},
     "output_type": "execute_result"
    }
   ],
   "source": [
    "prime_factorization(33100000)"
   ]
  },
  {
   "cell_type": "code",
   "execution_count": 19,
   "id": "d7659abb",
   "metadata": {},
   "outputs": [
    {
     "data": {
      "text/plain": [
       "2"
      ]
     },
     "execution_count": 19,
     "metadata": {},
     "output_type": "execute_result"
    }
   ],
   "source": [
    "find_smallest_factor(33100000)"
   ]
  },
  {
   "cell_type": "code",
   "execution_count": 21,
   "id": "f197c86f",
   "metadata": {},
   "outputs": [],
   "source": [
    "def house(nr: int) -> int:\n",
    "    if nr == 1:\n",
    "        return 10\n",
    "    presents = nr * 10 + 10\n",
    "    if is_prime(nr) or nr == 1:\n",
    "        return presents\n",
    "    half = nr // 2 + 1\n",
    "    for i in range(2, half):\n",
    "        if nr % i == 0:\n",
    "            presents += 10 * i\n",
    "    return presents"
   ]
  },
  {
   "cell_type": "code",
   "execution_count": 26,
   "id": "34c4630c",
   "metadata": {},
   "outputs": [
    {
     "name": "stdout",
     "output_type": "stream",
     "text": [
      "1 10\n",
      "2 30\n",
      "3 40\n",
      "4 70\n",
      "5 60\n",
      "6 120\n",
      "7 80\n",
      "8 150\n",
      "9 130\n",
      "10 180\n",
      "11 120\n",
      "12 280\n",
      "13 140\n",
      "14 240\n",
      "15 240\n",
      "16 310\n",
      "17 180\n",
      "18 390\n",
      "19 200\n",
      "20 420\n",
      "21 320\n",
      "22 360\n",
      "23 240\n",
      "24 600\n",
      "25 310\n",
      "26 420\n",
      "27 400\n",
      "28 560\n",
      "29 300\n",
      "30 720\n",
      "31 320\n",
      "32 630\n",
      "33 480\n",
      "34 540\n",
      "35 480\n",
      "36 910\n",
      "37 380\n",
      "38 600\n",
      "39 560\n",
      "40 900\n",
      "41 420\n",
      "42 960\n",
      "43 440\n",
      "44 840\n",
      "45 780\n",
      "46 720\n",
      "47 480\n",
      "48 1240\n",
      "49 570\n"
     ]
    }
   ],
   "source": [
    "for i in range(1,50):\n",
    "    print(i, house(i))"
   ]
  }
 ],
 "metadata": {
  "kernelspec": {
   "display_name": "Python 3 (ipykernel)",
   "language": "python",
   "name": "python3"
  },
  "language_info": {
   "codemirror_mode": {
    "name": "ipython",
    "version": 3
   },
   "file_extension": ".py",
   "mimetype": "text/x-python",
   "name": "python",
   "nbconvert_exporter": "python",
   "pygments_lexer": "ipython3",
   "version": "3.9.9"
  }
 },
 "nbformat": 4,
 "nbformat_minor": 5
}
