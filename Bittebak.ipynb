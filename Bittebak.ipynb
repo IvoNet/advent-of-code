{
 "cells": [
  {
   "cell_type": "code",
   "execution_count": 119,
   "id": "bb536605",
   "metadata": {},
   "outputs": [],
   "source": [
    "import sys\n",
    "import unittest\n",
    "from itertools import product, permutations, groupby, combinations, count\n",
    "from more_itertools import set_partitions\n",
    "from pathlib import Path\n",
    "from collections import defaultdict\n",
    "from typing import *\n",
    "\n",
    "\n",
    "from ivonet.files import *\n",
    "from ivonet.iter import *\n",
    "from ivonet.grid import *\n",
    "from ivonet.alphabet import *\n",
    "from ivonet.files import *\n",
    "from ivonet.str import *\n",
    "from ivonet.search import *\n",
    "from ivonet.calc import *\n",
    "from ivonet.primes import *\n",
    "from ivonet.graph import *"
   ]
  },
  {
   "cell_type": "code",
   "execution_count": 132,
   "id": "8174e0d4",
   "metadata": {},
   "outputs": [
    {
     "name": "stdout",
     "output_type": "stream",
     "text": [
      "10\n"
     ]
    },
    {
     "data": {
      "text/plain": [
       "16"
      ]
     },
     "execution_count": 132,
     "metadata": {},
     "output_type": "execute_result"
    }
   ],
   "source": [
    "TRIANGULAR_NUMBER = lambda x: int((x * (x + 1)) / 2)\n",
    "col = TRIANGULAR_NUMBER(4)\n",
    "print(col)\n",
    "LAZY_CATERER = lambda x: 1 + TRIANGULAR_NUMBER(x - 1)\n",
    "LAZY_CATERER(6)"
   ]
  },
  {
   "cell_type": "code",
   "execution_count": 122,
   "id": "3f1be841",
   "metadata": {},
   "outputs": [
    {
     "data": {
      "text/plain": [
       "2"
      ]
     },
     "execution_count": 122,
     "metadata": {},
     "output_type": "execute_result"
    }
   ],
   "source": [
    "LAZY_CATERER(1)"
   ]
  },
  {
   "cell_type": "code",
   "execution_count": 124,
   "id": "1e5a2a2d",
   "metadata": {},
   "outputs": [
    {
     "data": {
      "text/plain": [
       "18180455"
      ]
     },
     "execution_count": 124,
     "metadata": {},
     "output_type": "execute_result"
    }
   ],
   "source": [
    "x = 4531556\n",
    "y = 0\n",
    "for i in range(1, 3020):\n",
    "    y += i + 3011\n",
    "x + y\n",
    "    \n"
   ]
  },
  {
   "cell_type": "code",
   "execution_count": 141,
   "id": "5508f50a",
   "metadata": {},
   "outputs": [
    {
     "data": {
      "text/plain": [
       "8"
      ]
     },
     "execution_count": 141,
     "metadata": {},
     "output_type": "execute_result"
    }
   ],
   "source": [
    "def lazy(row):\n",
    "    return 1 + ((row * (row + 1)) // 2) \n",
    "\n",
    "def value(row, col):\n",
    "    ret = LAZY_CATERER(row)\n",
    "    #print(ret)\n",
    "    for i in range(1, col):\n",
    "        ret = ret + row + i\n",
    "    return ret\n",
    "        \n",
    "value(3, 2)\n"
   ]
  }
 ],
 "metadata": {
  "kernelspec": {
   "display_name": "Python 3 (ipykernel)",
   "language": "python",
   "name": "python3"
  },
  "language_info": {
   "codemirror_mode": {
    "name": "ipython",
    "version": 3
   },
   "file_extension": ".py",
   "mimetype": "text/x-python",
   "name": "python",
   "nbconvert_exporter": "python",
   "pygments_lexer": "ipython3",
   "version": "3.9.9"
  }
 },
 "nbformat": 4,
 "nbformat_minor": 5
}
