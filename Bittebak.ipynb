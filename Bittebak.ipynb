{
 "cells": [
  {
   "cell_type": "code",
   "execution_count": 8,
   "id": "bb536605",
   "metadata": {},
   "outputs": [],
   "source": [
    "from ivonet.files import *\n",
    "from ivonet.hexa import *\n",
    "from ivonet.iter import *\n",
    "from ivonet.grid import *\n",
    "from ivonet.alphabet import *\n",
    "from ivonet.files import *\n",
    "from ivonet.str import *\n",
    "from ivonet.search import *\n",
    "from ivonet.calc import *\n",
    "from ivonet.primes import *\n",
    "from ivonet.graph import *\n",
    "from ivonet.cdll import *\n",
    "\n",
    "import sys\n",
    "import unittest\n",
    "import re\n",
    "import itertools\n",
    "import math\n",
    "import threading\n",
    "from itertools import product, permutations, groupby, combinations, count, cycle\n",
    "from more_itertools import set_partitions\n",
    "from multiprocessing import Pool\n",
    "from pathlib import Path\n",
    "from collections import defaultdict\n",
    "from dataclasses import dataclass\n",
    "from hashlib import md5\n",
    "from typing import *"
   ]
  },
  {
   "cell_type": "code",
   "execution_count": 62,
   "id": "b5450519",
   "metadata": {},
   "outputs": [],
   "source": [
    "Point = complex\n",
    "def rotate(z: complex, degrees: float) -> complex:\n",
    "    return z * 1j**(degrees/90)"
   ]
  },
  {
   "cell_type": "code",
   "execution_count": 161,
   "id": "d6364544",
   "metadata": {},
   "outputs": [],
   "source": [
    "class ChocolateChart:\n",
    "\n",
    "    def __init__(self) -> None:\n",
    "        self.recipes = [3, 7]\n",
    "        self.cook_1 = 0\n",
    "        self.cook_2 = 1\n",
    "        self.round = 0\n",
    "\n",
    "    def walk(self):\n",
    "        self.cook_1 = (self.cook_1 + 1 + self.recipes[self.cook_1]) % len(self.recipes)\n",
    "        self.cook_2 = (self.cook_2 + 1 + self.recipes[self.cook_2]) % len(self.recipes)\n",
    "\n",
    "    def cook(self):\n",
    "        self.round += 1\n",
    "        base = self.recipes[self.cook_1] + self.recipes[self.cook_2]\n",
    "        print(base)\n",
    "        if base >= 10:\n",
    "            self.recipes.append(base // 10)\n",
    "        self.recipes.append(base % 10)\n",
    "        self.walk()\n",
    "        \n",
    "    def __repr__(self) -> str:\n",
    "        return f\"ChocolateChart<recipes={self.recipes}, elf_1={self.cook_1}, elf_2={self.cook_2}, round={self.round}>\"\n"
   ]
  },
  {
   "cell_type": "code",
   "execution_count": 165,
   "id": "4f6d5d40",
   "metadata": {},
   "outputs": [
    {
     "name": "stdout",
     "output_type": "stream",
     "text": [
      "ChocolateChart<recipes=[3, 7], elf_1=0, elf_2=1, round=0>\n",
      "10\n",
      "10\n",
      "1\n",
      "2\n",
      "ChocolateChart<recipes=[3, 7, 1, 0, 1, 0, 1, 2], elf_1=0, elf_2=6, round=4>\n"
     ]
    }
   ],
   "source": [
    "c = ChocolateChart()\n",
    "print(c)\n",
    "c.cook()\n",
    "c.cook()\n",
    "c.cook()\n",
    "c.cook()\n",
    "print(c)"
   ]
  }
 ],
 "metadata": {
  "kernelspec": {
   "display_name": "Python 3 (ipykernel)",
   "language": "python",
   "name": "python3"
  },
  "language_info": {
   "codemirror_mode": {
    "name": "ipython",
    "version": 3
   },
   "file_extension": ".py",
   "mimetype": "text/x-python",
   "name": "python",
   "nbconvert_exporter": "python",
   "pygments_lexer": "ipython3",
   "version": "3.9.9"
  }
 },
 "nbformat": 4,
 "nbformat_minor": 5
}
