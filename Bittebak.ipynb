{
 "cells": [
  {
   "cell_type": "code",
   "execution_count": 2,
   "id": "bb536605",
   "metadata": {},
   "outputs": [],
   "source": [
    "from __future__ import annotations\n",
    "\n",
    "from ivonet.files import *\n",
    "from ivonet.hexa import *\n",
    "from ivonet.iter import *\n",
    "from ivonet.grid import *\n",
    "from ivonet.alphabet import *\n",
    "from ivonet.files import *\n",
    "from ivonet.str import *\n",
    "from ivonet.search import *\n",
    "from ivonet.calc import *\n",
    "from ivonet.primes import *\n",
    "from ivonet.graph import *\n",
    "from ivonet.cdll import *\n",
    "\n",
    "import sys\n",
    "import unittest\n",
    "import re\n",
    "import itertools\n",
    "import math\n",
    "import threading\n",
    "from itertools import product, permutations, groupby, combinations, count, cycle\n",
    "from more_itertools import set_partitions\n",
    "from multiprocessing import Pool\n",
    "from pathlib import Path\n",
    "from collections import defaultdict\n",
    "from dataclasses import dataclass\n",
    "from hashlib import md5\n",
    "from typing import *\n",
    "from enum import Enum\n"
   ]
  },
  {
   "cell_type": "code",
   "execution_count": 3,
   "id": "2f17faa6",
   "metadata": {},
   "outputs": [],
   "source": [
    "Point = complex\n",
    "def rotate(z: complex, degrees: float) -> complex:\n",
    "    return z * 1j**(degrees/90)\n",
    "\n",
    "class Location(NamedTuple):\n",
    "    row: int\n",
    "    col: int\n",
    "\n",
    "class Cell(str, Enum):\n",
    "    EMPTY = \" \"\n",
    "    BLOCKED = \"#\"\n",
    "    ELF = \"E\"\n",
    "    GOBLIN = \"G\"\n",
    "    PATH = \"*\"\n",
    "\n",
    "    def __repr__(self) -> str:\n",
    "        return self.value\n"
   ]
  },
  {
   "cell_type": "code",
   "execution_count": 4,
   "id": "1cfa796f-0cd4-4a44-bab9-2afee53a7a3c",
   "metadata": {},
   "outputs": [
    {
     "name": "stdout",
     "output_type": "stream",
     "text": [
      "[#, E]\n"
     ]
    }
   ],
   "source": [
    "a = [Cell.BLOCKED, Cell.ELF]\n",
    "print(a)"
   ]
  },
  {
   "cell_type": "code",
   "execution_count": 7,
   "id": "69916c8b-3bc8-4f1b-b375-da28d126c55e",
   "metadata": {},
   "outputs": [],
   "source": [
    "from dataclasses import dataclass\n",
    "\n",
    "@dataclass\n",
    "class Unit:\n",
    "    start_pos: Location\n",
    "    hit_points: int = 200\n",
    "    attack_power: int = 3\n",
    "\n",
    "\n",
    "class Elf(Unit):\n",
    "    def __repr__(self) -> str:\n",
    "        return Cell.ELF\n",
    "\n",
    "\n",
    "class Goblin(Unit):\n",
    "    def __repr__(self) -> str:\n",
    "        return Cell.GOBLIN\n"
   ]
  },
  {
   "cell_type": "code",
   "execution_count": 14,
   "id": "1c631262-1bf6-494b-b041-99fb710f3492",
   "metadata": {},
   "outputs": [],
   "source": [
    "u = Goblin(Location(0,0))\n"
   ]
  },
  {
   "cell_type": "code",
   "execution_count": 15,
   "id": "35ff9829-a34d-4933-bb5e-b13177b72d62",
   "metadata": {},
   "outputs": [
    {
     "data": {
      "text/plain": [
       "[Location(row=0, col=0),\n",
       " Location(row=1, col=1),\n",
       " Location(row=1, col=10),\n",
       " Location(row=3, col=1),\n",
       " Location(row=3, col=30)]"
      ]
     },
     "execution_count": 15,
     "metadata": {},
     "output_type": "execute_result"
    }
   ],
   "source": [
    "l = [Location(0,0),Location(1,10),Location(1,1),Location(3,30),Location(3,1),]\n",
    "sorted(l)"
   ]
  },
  {
   "cell_type": "code",
   "execution_count": null,
   "id": "1cf93591-ae2a-4c24-8b60-d1413c47d2dc",
   "metadata": {},
   "outputs": [],
   "source": []
  }
 ],
 "metadata": {
  "kernelspec": {
   "display_name": "Python 3 (ipykernel)",
   "language": "python",
   "name": "python3"
  },
  "language_info": {
   "codemirror_mode": {
    "name": "ipython",
    "version": 3
   },
   "file_extension": ".py",
   "mimetype": "text/x-python",
   "name": "python",
   "nbconvert_exporter": "python",
   "pygments_lexer": "ipython3",
   "version": "3.9.9"
  }
 },
 "nbformat": 4,
 "nbformat_minor": 5
}
