{
 "cells": [
  {
   "cell_type": "code",
   "execution_count": 2,
   "id": "8d398ad4",
   "metadata": {},
   "outputs": [],
   "source": [
    "import sys\n",
    "import unittest\n",
    "from pathlib import Path\n",
    "\n",
    "from ivonet.calc import base_x_to_10\n",
    "from ivonet.files import read_data\n",
    "from ivonet.iter import ints\n",
    "from ivonet.str import chunk_string\n",
    "from ivonet.files import read_int_matrix\n",
    "from ivonet.grid import neighbors_defined_grid\n",
    "from ivonet.iter import ints\n",
    "from ivonet.search import astar"
   ]
  },
  {
   "cell_type": "code",
   "execution_count": null,
   "id": "8f82a289",
   "metadata": {},
   "outputs": [],
   "source": []
  }
 ],
 "metadata": {
  "kernelspec": {
   "display_name": "Python 3 (ipykernel)",
   "language": "python",
   "name": "python3"
  },
  "language_info": {
   "codemirror_mode": {
    "name": "ipython",
    "version": 3
   },
   "file_extension": ".py",
   "mimetype": "text/x-python",
   "name": "python",
   "nbconvert_exporter": "python",
   "pygments_lexer": "ipython3",
   "version": "3.9.9"
  }
 },
 "nbformat": 4,
 "nbformat_minor": 5
}
