{
 "cells": [
  {
   "cell_type": "code",
   "execution_count": 31,
   "id": "8d398ad4",
   "metadata": {},
   "outputs": [],
   "source": [
    "from __future__ import annotations\n",
    "import sys\n",
    "import unittest\n",
    "from pathlib import Path\n",
    "\n",
    "from ivonet.calc import base_x_to_10\n",
    "from ivonet.files import read_data\n",
    "from ivonet.iter import ints\n",
    "from ivonet.str import chunk_string\n",
    "from ivonet.files import read_int_matrix\n",
    "from ivonet.grid import neighbors_defined_grid\n",
    "from ivonet.iter import ints\n",
    "from ivonet.search import astar"
   ]
  },
  {
   "cell_type": "code",
   "execution_count": 10,
   "id": "659a8919",
   "metadata": {},
   "outputs": [],
   "source": [
    "def get_rotations(x, y, z):\n",
    "    return [\n",
    "        (x, y, z),\n",
    "        (-y, x, z),\n",
    "        (-x, -y, z),\n",
    "        (y, -x, z),\n",
    "    ]\n",
    "\n",
    "\n",
    "def get_z_orientations(x, y, z):\n",
    "    return [\n",
    "        (x, y, z),\n",
    "        (x, z, -y),\n",
    "        (x, -y, -z),\n",
    "        (x, -z, y),\n",
    "        (-z, y, x),\n",
    "        (z, y, -x),\n",
    "    ]\n",
    "\n",
    "\n",
    "def get_orientations(x, y, z):\n",
    "    for xi, yi, zi in get_z_orientations(x, y, z):\n",
    "        yield from get_rotations(xi, yi, zi)\n",
    "        "
   ]
  },
  {
   "cell_type": "code",
   "execution_count": 23,
   "id": "6eac3243",
   "metadata": {},
   "outputs": [
    {
     "data": {
      "text/plain": [
       "[(-1, -1, 1),\n",
       " (1, -1, 1),\n",
       " (1, 1, 1),\n",
       " (-1, 1, 1),\n",
       " (-1, 1, 1),\n",
       " (-1, -1, 1),\n",
       " (1, -1, 1),\n",
       " (1, 1, 1),\n",
       " (-1, 1, -1),\n",
       " (-1, -1, -1),\n",
       " (1, -1, -1),\n",
       " (1, 1, -1),\n",
       " (-1, -1, -1),\n",
       " (1, -1, -1),\n",
       " (1, 1, -1),\n",
       " (-1, 1, -1),\n",
       " (-1, -1, -1),\n",
       " (1, -1, -1),\n",
       " (1, 1, -1),\n",
       " (-1, 1, -1),\n",
       " (1, -1, 1),\n",
       " (1, 1, 1),\n",
       " (-1, 1, 1),\n",
       " (-1, -1, 1)]"
      ]
     },
     "execution_count": 23,
     "metadata": {},
     "output_type": "execute_result"
    }
   ],
   "source": [
    "a = list(get_orientations(-1,-1,1))\n",
    "a"
   ]
  },
  {
   "cell_type": "code",
   "execution_count": 24,
   "id": "ecfd0ff7",
   "metadata": {},
   "outputs": [
    {
     "data": {
      "text/plain": [
       "24"
      ]
     },
     "execution_count": 24,
     "metadata": {},
     "output_type": "execute_result"
    }
   ],
   "source": [
    "len(a)"
   ]
  },
  {
   "cell_type": "code",
   "execution_count": null,
   "id": "4c61780a",
   "metadata": {},
   "outputs": [],
   "source": []
  },
  {
   "cell_type": "code",
   "execution_count": 16,
   "id": "3c3069f2",
   "metadata": {},
   "outputs": [],
   "source": [
    "def roll(v):  # Hand rule\n",
    "    return v[0], v[2], -v[1]\n",
    "\n",
    "\n",
    "def turn(v):\n",
    "    return -v[1], v[0], v[2]\n",
    "\n",
    "\n",
    "def sequence(v):\n",
    "    for cycle in range(2):\n",
    "        for step in range(3):  # Yield RTTT 3 times\n",
    "            v = roll(v)\n",
    "            yield v  # Yield R\n",
    "            for i in range(3):  # Yield TTT\n",
    "                v = turn(v)\n",
    "                yield v\n",
    "        v = roll(turn(roll(v)))  # Do RTR\n"
   ]
  },
  {
   "cell_type": "code",
   "execution_count": 26,
   "id": "bd50e05b",
   "metadata": {},
   "outputs": [
    {
     "data": {
      "text/plain": [
       "[(-1, 1, 1),\n",
       " (-1, -1, 1),\n",
       " (1, -1, 1),\n",
       " (1, 1, 1),\n",
       " (1, 1, -1),\n",
       " (-1, 1, -1),\n",
       " (-1, -1, -1),\n",
       " (1, -1, -1),\n",
       " (1, -1, 1),\n",
       " (1, 1, 1),\n",
       " (-1, 1, 1),\n",
       " (-1, -1, 1),\n",
       " (-1, 1, -1),\n",
       " (-1, -1, -1),\n",
       " (1, -1, -1),\n",
       " (1, 1, -1),\n",
       " (1, -1, -1),\n",
       " (1, 1, -1),\n",
       " (-1, 1, -1),\n",
       " (-1, -1, -1),\n",
       " (-1, -1, 1),\n",
       " (1, -1, 1),\n",
       " (1, 1, 1),\n",
       " (-1, 1, 1)]"
      ]
     },
     "execution_count": 26,
     "metadata": {},
     "output_type": "execute_result"
    }
   ],
   "source": [
    "b = list(sequence((-1,-1,1)))\n",
    "b"
   ]
  },
  {
   "cell_type": "code",
   "execution_count": 28,
   "id": "d1f515bf",
   "metadata": {},
   "outputs": [
    {
     "data": {
      "text/plain": [
       "24"
      ]
     },
     "execution_count": 28,
     "metadata": {},
     "output_type": "execute_result"
    }
   ],
   "source": [
    "len(b)"
   ]
  },
  {
   "cell_type": "code",
   "execution_count": 33,
   "id": "a0d0cc14",
   "metadata": {},
   "outputs": [],
   "source": [
    "class Scanner:\n",
    "\n",
    "    def __init__(self, id: int, beacons: list[tuple[int, int, int]]) -> None:\n",
    "        self.id = id\n",
    "        self.orig = beacons.copy()\n",
    "        self.current = beacons.copy()\n",
    "        self.length = len(beacons)\n",
    "        self.fixed_beacons = None\n",
    "        self.locked = False\n",
    "\n",
    "    def roll(self):\n",
    "        ret = []\n",
    "        for c in self.current:\n",
    "            ret.append(roll(c))\n",
    "        self.current = ret\n",
    "\n",
    "    def turn(self):\n",
    "        ret = []\n",
    "        for c in self.current:\n",
    "            ret.append(turn(c))\n",
    "        self.current = ret\n",
    "\n",
    "    def all(self):\n",
    "        \"\"\"https://stackoverflow.com/questions/16452383/how-to-get-all-24-rotations-of-a-3-dimensional-array\n",
    "        \"\"\"\n",
    "        # if self.locked:\n",
    "        #     yield self\n",
    "        for _ in range(2):\n",
    "            for action in \"RTTTRTTTRTTT\":\n",
    "                if action == \"R\":\n",
    "                    self.roll()\n",
    "                    yield self.current\n",
    "                else:\n",
    "                    self.turn()\n",
    "                    yield self.current\n",
    "            # reorient to do the other 12 positions\n",
    "            self.roll()\n",
    "            self.turn()\n",
    "            self.roll()\n",
    "\n",
    "    def reset(self):\n",
    "        self.current = self.orig.copy()\n",
    "\n",
    "    def matches(self, scanner: Scanner) -> bool:\n",
    "        ...\n",
    "\n",
    "    def __str__(self) -> str:\n",
    "        s = \"\\n \".join([str(x).replace(\" \", \"\") for x in self.current])\n",
    "        return f\"[{s}]\"\n",
    "\n",
    "    def __repr__(self) -> str:\n",
    "        return f\"Scanner[{self.id}]\""
   ]
  },
  {
   "cell_type": "code",
   "execution_count": 35,
   "id": "d54c247d",
   "metadata": {},
   "outputs": [],
   "source": [
    "s0 = [(-618, -824, -621),\n",
    "              (-537, -823, -458),\n",
    "              (-447, -329, 318),\n",
    "              (404, -588, -901),\n",
    "              (544, -627, -890),\n",
    "              (528, -643, 409),\n",
    "              (-661, -816, -575),\n",
    "              (390, -675, -793),\n",
    "              (423, -701, 434),\n",
    "              (-345, -311, 381),\n",
    "              (459, -707, 401),\n",
    "              (-485, -357, 347)]\n",
    "s1 = [(686, 422, 578),\n",
    "              (605, 423, 415),\n",
    "              (515, 917, -361),\n",
    "              (-336, 658, 858),\n",
    "              (-476, 619, 847),\n",
    "              (-460, 603, -452),\n",
    "              (729, 430, 532),\n",
    "              (-322, 571, 750),\n",
    "              (-355, 545, -477),\n",
    "              (413, 935, -424),\n",
    "              (-391, 539, -444),\n",
    "              (553, 889, -390)]\n",
    "sc0 = Scanner(0, s0)\n",
    "sc1 = Scanner(1, s1)\n",
    "sc"
   ]
  }
 ],
 "metadata": {
  "kernelspec": {
   "display_name": "Python 3 (ipykernel)",
   "language": "python",
   "name": "python3"
  },
  "language_info": {
   "codemirror_mode": {
    "name": "ipython",
    "version": 3
   },
   "file_extension": ".py",
   "mimetype": "text/x-python",
   "name": "python",
   "nbconvert_exporter": "python",
   "pygments_lexer": "ipython3",
   "version": "3.9.9"
  }
 },
 "nbformat": 4,
 "nbformat_minor": 5
}
