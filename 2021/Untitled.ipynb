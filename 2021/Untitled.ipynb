{
 "cells": [
  {
   "cell_type": "code",
   "execution_count": 3,
   "id": "06c36f53-2d59-489f-afd1-73f3e7ebbfad",
   "metadata": {},
   "outputs": [],
   "source": [
    "str = \"()<>{}[]\"\n",
    "b = [(x,y) for x in a[::2] for y in a[1::2]]\n"
   ]
  },
  {
   "cell_type": "code",
   "execution_count": 2,
   "id": "48baf0ef-dec0-4cf8-843c-28ffb975b2b8",
   "metadata": {},
   "outputs": [
    {
     "name": "stdout",
     "output_type": "stream",
     "text": [
      "[('(', ')'), ('(', '>'), ('(', '}'), ('(', ']'), ('<', ')'), ('<', '>'), ('<', '}'), ('<', ']'), ('{', ')'), ('{', '>'), ('{', '}'), ('{', ']'), ('[', ')'), ('[', '>'), ('[', '}'), ('[', ']')]\n"
     ]
    }
   ],
   "source": [
    "print(b)"
   ]
  },
  {
   "cell_type": "code",
   "execution_count": null,
   "id": "2a94c5d1-c524-40c5-b7b0-98a71e993014",
   "metadata": {},
   "outputs": [],
   "source": []
  },
  {
   "cell_type": "code",
   "execution_count": 7,
   "id": "cf3b32e7",
   "metadata": {},
   "outputs": [],
   "source": [
    "n=2\n",
    "str = list(str)\n",
    "chunks = [str[i:i+n] for i in range(0, len(str), n)]"
   ]
  },
  {
   "cell_type": "code",
   "execution_count": 9,
   "id": "6df236e6",
   "metadata": {},
   "outputs": [
    {
     "name": "stdout",
     "output_type": "stream",
     "text": [
      "[['(', ')'], ['<', '>'], ['{', '}'], ['[', ']']]\n"
     ]
    }
   ],
   "source": [
    "print(chunks)"
   ]
  },
  {
   "cell_type": "code",
   "execution_count": 11,
   "id": "94ce5e78",
   "metadata": {},
   "outputs": [
    {
     "name": "stdout",
     "output_type": "stream",
     "text": [
      "{'(': ')', '<': '>', '{': '}', '[': ']'}\n"
     ]
    }
   ],
   "source": [
    "ret = {}\n",
    "for k, v in [str[i:i+n] for i in range(0, len(str), n)]:\n",
    "    ret[k] = v\n",
    "print(ret)"
   ]
  }
 ],
 "metadata": {
  "kernelspec": {
   "display_name": "Python 3 (ipykernel)",
   "language": "python",
   "name": "python3"
  },
  "language_info": {
   "codemirror_mode": {
    "name": "ipython",
    "version": 3
   },
   "file_extension": ".py",
   "mimetype": "text/x-python",
   "name": "python",
   "nbconvert_exporter": "python",
   "pygments_lexer": "ipython3",
   "version": "3.9.9"
  }
 },
 "nbformat": 4,
 "nbformat_minor": 5
}
