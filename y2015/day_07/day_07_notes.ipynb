{
 "cells": [
  {
   "cell_type": "code",
   "execution_count": 3,
   "id": "37c09cd8",
   "metadata": {},
   "outputs": [],
   "source": [
    "x = 123\n",
    "y = 456"
   ]
  },
  {
   "cell_type": "code",
   "execution_count": 6,
   "id": "13eef84b",
   "metadata": {},
   "outputs": [
    {
     "data": {
      "text/plain": [
       "72"
      ]
     },
     "execution_count": 6,
     "metadata": {},
     "output_type": "execute_result"
    }
   ],
   "source": [
    "d = x & y\n",
    "d"
   ]
  },
  {
   "cell_type": "code",
   "execution_count": 8,
   "id": "ff33bb31",
   "metadata": {},
   "outputs": [
    {
     "data": {
      "text/plain": [
       "507"
      ]
     },
     "execution_count": 8,
     "metadata": {},
     "output_type": "execute_result"
    }
   ],
   "source": [
    "e = x | y\n",
    "e"
   ]
  },
  {
   "cell_type": "code",
   "execution_count": 37,
   "id": "75780bb7",
   "metadata": {},
   "outputs": [
    {
     "data": {
      "text/plain": [
       "4030464"
      ]
     },
     "execution_count": 37,
     "metadata": {},
     "output_type": "execute_result"
    }
   ],
   "source": [
    "f= x << 15\n",
    "f"
   ]
  },
  {
   "cell_type": "code",
   "execution_count": 33,
   "id": "d8763e1a",
   "metadata": {},
   "outputs": [
    {
     "data": {
      "text/plain": [
       "114"
      ]
     },
     "execution_count": 33,
     "metadata": {},
     "output_type": "execute_result"
    }
   ],
   "source": [
    "g = y >> 2\n",
    "g"
   ]
  },
  {
   "cell_type": "code",
   "execution_count": 50,
   "id": "e3a383be",
   "metadata": {},
   "outputs": [
    {
     "data": {
      "text/plain": [
       "1"
      ]
     },
     "execution_count": 50,
     "metadata": {},
     "output_type": "execute_result"
    }
   ],
   "source": [
    "1 & 6\n",
    "(1 ^ 0xFFFF << 15) % 65535"
   ]
  },
  {
   "cell_type": "code",
   "execution_count": 76,
   "id": "7d6d178e",
   "metadata": {},
   "outputs": [
    {
     "data": {
      "text/plain": [
       "123"
      ]
     },
     "execution_count": 76,
     "metadata": {},
     "output_type": "execute_result"
    }
   ],
   "source": [
    "h =  0xFFFF & x\n",
    "h"
   ]
  },
  {
   "cell_type": "code",
   "execution_count": 72,
   "id": "941210ec",
   "metadata": {},
   "outputs": [
    {
     "data": {
      "text/plain": [
       "456"
      ]
     },
     "execution_count": 72,
     "metadata": {},
     "output_type": "execute_result"
    }
   ],
   "source": [
    "i = y & 0xFFFF\n",
    "i"
   ]
  },
  {
   "cell_type": "code",
   "execution_count": 57,
   "id": "458a605b",
   "metadata": {},
   "outputs": [
    {
     "data": {
      "text/plain": [
       "'(((14146) >> 2) & ((((14146) >> 3) | ((14146) >> 5)) & (NOT (((14146) >> 3) & ((14146) >> 5)))))(((14146) >> 1) | ((1 & (((14146) | ((((14146) >> 2) | ((((14146) >> 3) | ((14146) >> 5)) & (NOT (((14146) >> 3) & ((14146) >> 5))))) & (NOT (((14146) >> 2) & ((((14146) >> 3) | ((14146) >> 5)) & (NOT (((14146) >> 3) & ((14146) >> 5)))))))) & (NOT ((14146) & ((((14146) >> 2) | ((((14146) >> 3) | ((14146) >> 5)) & (NOT (((14146) >> 3) & ((14146) >> 5))))) & (NOT (((14146) >> 2) & ((((14146) >> 3) | ((14146) >> 5)) & (NOT (((14146) >> 3) & ((14146) >> 5))))))))))) << 15))'"
      ]
     },
     "execution_count": 57,
     "metadata": {},
     "output_type": "execute_result"
    }
   ],
   "source": [
    "a = \"(((14146) RSHIFT 2) AND ((((14146) RSHIFT 3) OR ((14146) RSHIFT 5)) AND (NOT (((14146) RSHIFT 3) AND ((14146) RSHIFT 5)))))(((14146) RSHIFT 1) OR ((1 AND (((14146) OR ((((14146) RSHIFT 2) OR ((((14146) RSHIFT 3) OR ((14146) RSHIFT 5)) AND (NOT (((14146) RSHIFT 3) AND ((14146) RSHIFT 5))))) AND (NOT (((14146) RSHIFT 2) AND ((((14146) RSHIFT 3) OR ((14146) RSHIFT 5)) AND (NOT (((14146) RSHIFT 3) AND ((14146) RSHIFT 5)))))))) AND (NOT ((14146) AND ((((14146) RSHIFT 2) OR ((((14146) RSHIFT 3) OR ((14146) RSHIFT 5)) AND (NOT (((14146) RSHIFT 3) AND ((14146) RSHIFT 5))))) AND (NOT (((14146) RSHIFT 2) AND ((((14146) RSHIFT 3) OR ((14146) RSHIFT 5)) AND (NOT (((14146) RSHIFT 3) AND ((14146) RSHIFT 5))))))))))) LSHIFT 15))\"\n",
    "a = a.replace(\"AND\", \"&\").replace(\"LSHIFT\", \"<<\").replace(\"RSHIFT\", \">>\").replace(\"OR\", \"|\")\n",
    "a"
   ]
  },
  {
   "cell_type": "code",
   "execution_count": 67,
   "id": "c0a72d42",
   "metadata": {},
   "outputs": [
    {
     "data": {
      "text/plain": [
       "7073"
      ]
     },
     "execution_count": 67,
     "metadata": {},
     "output_type": "execute_result"
    }
   ],
   "source": [
    "#a = ((14146 >> 2) & (((14146 >> 3) | (14146 >> 5)) & (0xFFFF ^ ((14146 >> 3) & (14146 >> 5)))))((14146 >> 1) | ((1 & ((14146 | (((14146 >> 2) | (((14146 >> 3) | (14146 >> 5)) & (0xFFFF ^ ((14146 >> 3) & (14146 >> 5))))) & (0xFFFF ^ ((14146 >> 2) & (((14146 >> 3) | (14146 >> 5)) & (0xFFFF ^ ((14146 >> 3) & (14146 >> 5)))))))) & (0xFFFF ^ (14146 & (((14146 >> 2) | (((14146 >> 3) | (14146 >> 5)) & (0xFFFF ^ ((14146 >> 3) & (14146 >> 5))))) & (0xFFFF ^ ((14146 >> 2) & (((14146 >> 3) | (14146 >> 5)) & (0xFFFF ^ ((14146 >> 3) & (14146 >> 5))))))))))) << 15))\n",
    "a= ((14146 >> 2) & (((14146 >> 3) | (14146 >> 5)) & (0xFFFF ^ ((14146 >> 3) & (14146 >> 5)))))\n",
    "a=((14146 >> 1) | ((1 & ((14146 | (((14146 >> 2) | (((14146 >> 3) | (14146 >> 5)) & (0xFFFF ^ ((14146 >> 3) & (14146 >> 5))))) & (0xFFFF ^ ((14146 >> 2) & (((14146 >> 3) | (14146 >> 5)) & (0xFFFF ^ ((14146 >> 3) & (14146 >> 5)))))))) & (0xFFFF ^ (14146 & (((14146 >> 2) | (((14146 >> 3) | (14146 >> 5)) & (0xFFFF ^ ((14146 >> 3) & (14146 >> 5))))) & (0xFFFF ^ ((14146 >> 2) & (((14146 >> 3) | (14146 >> 5)) & (0xFFFF ^ ((14146 >> 3) & (14146 >> 5))))))))))) << 15))\n",
    "a"
   ]
  }
 ],
 "metadata": {
  "kernelspec": {
   "display_name": "Python 3 (ipykernel)",
   "language": "python",
   "name": "python3"
  },
  "language_info": {
   "codemirror_mode": {
    "name": "ipython",
    "version": 3
   },
   "file_extension": ".py",
   "mimetype": "text/x-python",
   "name": "python",
   "nbconvert_exporter": "python",
   "pygments_lexer": "ipython3",
   "version": "3.9.9"
  }
 },
 "nbformat": 4,
 "nbformat_minor": 5
}
